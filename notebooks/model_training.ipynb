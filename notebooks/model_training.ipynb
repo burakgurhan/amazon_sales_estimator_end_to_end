{
 "cells": [
  {
   "cell_type": "code",
   "execution_count": 1,
   "metadata": {},
   "outputs": [],
   "source": [
    "import pandas as pd\n",
    "import numpy as np\n",
    "#from src.config import Config\n",
    "from sklearn.ensemble import RandomForestRegressor\n",
    "from sklearn.model_selection import train_test_split, GridSearchCV\n",
    "from sklearn.metrics import r2_score, mean_absolute_percentage_error, mean_squared_error"
   ]
  },
  {
   "cell_type": "code",
   "execution_count": 2,
   "metadata": {},
   "outputs": [
    {
     "data": {
      "text/html": [
       "<div>\n",
       "<style scoped>\n",
       "    .dataframe tbody tr th:only-of-type {\n",
       "        vertical-align: middle;\n",
       "    }\n",
       "\n",
       "    .dataframe tbody tr th {\n",
       "        vertical-align: top;\n",
       "    }\n",
       "\n",
       "    .dataframe thead th {\n",
       "        text-align: right;\n",
       "    }\n",
       "</style>\n",
       "<table border=\"1\" class=\"dataframe\">\n",
       "  <thead>\n",
       "    <tr style=\"text-align: right;\">\n",
       "      <th></th>\n",
       "      <th>URL</th>\n",
       "      <th>ASIN</th>\n",
       "      <th>Title_x</th>\n",
       "      <th>Brand</th>\n",
       "      <th>Fulfillment</th>\n",
       "      <th>Category</th>\n",
       "      <th>BSR</th>\n",
       "      <th>Subcategory</th>\n",
       "      <th>Price</th>\n",
       "      <th>Price Trend (90 days) (%)</th>\n",
       "      <th>...</th>\n",
       "      <th>Number of Images</th>\n",
       "      <th>Variation Count</th>\n",
       "      <th>Sales to Reviews</th>\n",
       "      <th>Buy Box 🚚: Current</th>\n",
       "      <th>Title_y</th>\n",
       "      <th>Sales Rank: Current</th>\n",
       "      <th>Sales Rank: 90 days avg.</th>\n",
       "      <th>Sales Rank: Drops last 90 days</th>\n",
       "      <th>Sales Rank: Subcategory Sales Ranks</th>\n",
       "      <th>Bought in past month</th>\n",
       "    </tr>\n",
       "  </thead>\n",
       "  <tbody>\n",
       "    <tr>\n",
       "      <th>0</th>\n",
       "      <td>https://amazon.com/dp/B0933BVK6T</td>\n",
       "      <td>B0933BVK6T</td>\n",
       "      <td>Apple AirTag</td>\n",
       "      <td>Apple</td>\n",
       "      <td>Amazon</td>\n",
       "      <td>Electronics</td>\n",
       "      <td>1</td>\n",
       "      <td>Finders</td>\n",
       "      <td>27.99</td>\n",
       "      <td>-1.0</td>\n",
       "      <td>...</td>\n",
       "      <td>6</td>\n",
       "      <td>0</td>\n",
       "      <td>0.23</td>\n",
       "      <td>$ 27.99</td>\n",
       "      <td>Apple AirTag</td>\n",
       "      <td>1.0</td>\n",
       "      <td>3</td>\n",
       "      <td>33</td>\n",
       "      <td># 1 | Top 1% | Item Finders</td>\n",
       "      <td>10000</td>\n",
       "    </tr>\n",
       "    <tr>\n",
       "      <th>1</th>\n",
       "      <td>https://amazon.com/dp/B0932QJ2JZ</td>\n",
       "      <td>B0932QJ2JZ</td>\n",
       "      <td>Apple AirTag 4 Pack</td>\n",
       "      <td>Apple</td>\n",
       "      <td>Amazon</td>\n",
       "      <td>Electronics</td>\n",
       "      <td>3</td>\n",
       "      <td>Finders</td>\n",
       "      <td>84.99</td>\n",
       "      <td>-2.0</td>\n",
       "      <td>...</td>\n",
       "      <td>6</td>\n",
       "      <td>0</td>\n",
       "      <td>0.36</td>\n",
       "      <td>$ 84.99</td>\n",
       "      <td>Apple AirTag 4 Pack</td>\n",
       "      <td>3.0</td>\n",
       "      <td>3</td>\n",
       "      <td>98</td>\n",
       "      <td># 2 | Top 1% | Item Finders</td>\n",
       "      <td>10000</td>\n",
       "    </tr>\n",
       "    <tr>\n",
       "      <th>2</th>\n",
       "      <td>https://amazon.com/dp/B0CHWRXH8B</td>\n",
       "      <td>B0CHWRXH8B</td>\n",
       "      <td>Apple AirPods Pro (2nd Generation) Wireless Ea...</td>\n",
       "      <td>Apple</td>\n",
       "      <td>Amazon</td>\n",
       "      <td>Electronics</td>\n",
       "      <td>2</td>\n",
       "      <td>Earbud Headphones</td>\n",
       "      <td>189.00</td>\n",
       "      <td>-6.0</td>\n",
       "      <td>...</td>\n",
       "      <td>6</td>\n",
       "      <td>1</td>\n",
       "      <td>4.48</td>\n",
       "      <td>$ 189.00</td>\n",
       "      <td>Apple AirPods Pro (2nd Generation) Wireless Ea...</td>\n",
       "      <td>2.0</td>\n",
       "      <td>5</td>\n",
       "      <td>100</td>\n",
       "      <td># 1 | Top 1% | Earbud &amp; In-Ear Headphones</td>\n",
       "      <td>10000</td>\n",
       "    </tr>\n",
       "    <tr>\n",
       "      <th>3</th>\n",
       "      <td>https://amazon.com/dp/B07PXGQC1Q</td>\n",
       "      <td>B07PXGQC1Q</td>\n",
       "      <td>Apple AirPods (2nd Generation) Wireless Ear Bu...</td>\n",
       "      <td>Apple</td>\n",
       "      <td>Amazon</td>\n",
       "      <td>Electronics</td>\n",
       "      <td>4</td>\n",
       "      <td>Earbud Headphones</td>\n",
       "      <td>99.00</td>\n",
       "      <td>-1.0</td>\n",
       "      <td>...</td>\n",
       "      <td>6</td>\n",
       "      <td>0</td>\n",
       "      <td>0.06</td>\n",
       "      <td>$ 99.00</td>\n",
       "      <td>Apple AirPods (2nd Generation) Wireless Ear Bu...</td>\n",
       "      <td>4.0</td>\n",
       "      <td>5</td>\n",
       "      <td>105</td>\n",
       "      <td># 2 | Top 1% | Earbud &amp; In-Ear Headphones</td>\n",
       "      <td>10000</td>\n",
       "    </tr>\n",
       "    <tr>\n",
       "      <th>4</th>\n",
       "      <td>https://amazon.com/dp/B09BKHHL5H</td>\n",
       "      <td>B09BKHHL5H</td>\n",
       "      <td>Surge Protector USB Outlet Extender - 5-Outlet...</td>\n",
       "      <td>Lvetek</td>\n",
       "      <td>FBA</td>\n",
       "      <td>Electronics</td>\n",
       "      <td>11</td>\n",
       "      <td>Surge Protectors</td>\n",
       "      <td>12.98</td>\n",
       "      <td>-8.0</td>\n",
       "      <td>...</td>\n",
       "      <td>8</td>\n",
       "      <td>0</td>\n",
       "      <td>1.93</td>\n",
       "      <td>$ 12.98</td>\n",
       "      <td>Surge Protector USB Outlet Extender - 5-Outlet...</td>\n",
       "      <td>13.0</td>\n",
       "      <td>41</td>\n",
       "      <td>197</td>\n",
       "      <td># 1 | Top 1% | Surge Protectors</td>\n",
       "      <td>10000</td>\n",
       "    </tr>\n",
       "  </tbody>\n",
       "</table>\n",
       "<p>5 rows × 38 columns</p>\n",
       "</div>"
      ],
      "text/plain": [
       "                                URL        ASIN  \\\n",
       "0  https://amazon.com/dp/B0933BVK6T  B0933BVK6T   \n",
       "1  https://amazon.com/dp/B0932QJ2JZ  B0932QJ2JZ   \n",
       "2  https://amazon.com/dp/B0CHWRXH8B  B0CHWRXH8B   \n",
       "3  https://amazon.com/dp/B07PXGQC1Q  B07PXGQC1Q   \n",
       "4  https://amazon.com/dp/B09BKHHL5H  B09BKHHL5H   \n",
       "\n",
       "                                             Title_x   Brand Fulfillment  \\\n",
       "0                                       Apple AirTag   Apple      Amazon   \n",
       "1                                Apple AirTag 4 Pack   Apple      Amazon   \n",
       "2  Apple AirPods Pro (2nd Generation) Wireless Ea...   Apple      Amazon   \n",
       "3  Apple AirPods (2nd Generation) Wireless Ear Bu...   Apple      Amazon   \n",
       "4  Surge Protector USB Outlet Extender - 5-Outlet...  Lvetek         FBA   \n",
       "\n",
       "      Category  BSR        Subcategory   Price  Price Trend (90 days) (%)  \\\n",
       "0  Electronics    1            Finders   27.99                       -1.0   \n",
       "1  Electronics    3            Finders   84.99                       -2.0   \n",
       "2  Electronics    2  Earbud Headphones  189.00                       -6.0   \n",
       "3  Electronics    4  Earbud Headphones   99.00                       -1.0   \n",
       "4  Electronics   11   Surge Protectors   12.98                       -8.0   \n",
       "\n",
       "   ...  Number of Images  Variation Count  Sales to Reviews  \\\n",
       "0  ...                 6                0              0.23   \n",
       "1  ...                 6                0              0.36   \n",
       "2  ...                 6                1              4.48   \n",
       "3  ...                 6                0              0.06   \n",
       "4  ...                 8                0              1.93   \n",
       "\n",
       "   Buy Box 🚚: Current                                            Title_y  \\\n",
       "0             $ 27.99                                       Apple AirTag   \n",
       "1             $ 84.99                                Apple AirTag 4 Pack   \n",
       "2            $ 189.00  Apple AirPods Pro (2nd Generation) Wireless Ea...   \n",
       "3             $ 99.00  Apple AirPods (2nd Generation) Wireless Ear Bu...   \n",
       "4             $ 12.98  Surge Protector USB Outlet Extender - 5-Outlet...   \n",
       "\n",
       "  Sales Rank: Current  Sales Rank: 90 days avg.  \\\n",
       "0                 1.0                         3   \n",
       "1                 3.0                         3   \n",
       "2                 2.0                         5   \n",
       "3                 4.0                         5   \n",
       "4                13.0                        41   \n",
       "\n",
       "   Sales Rank: Drops last 90 days        Sales Rank: Subcategory Sales Ranks  \\\n",
       "0                              33                # 1 | Top 1% | Item Finders   \n",
       "1                              98                # 2 | Top 1% | Item Finders   \n",
       "2                             100  # 1 | Top 1% | Earbud & In-Ear Headphones   \n",
       "3                             105  # 2 | Top 1% | Earbud & In-Ear Headphones   \n",
       "4                             197            # 1 | Top 1% | Surge Protectors   \n",
       "\n",
       "  Bought in past month  \n",
       "0                10000  \n",
       "1                10000  \n",
       "2                10000  \n",
       "3                10000  \n",
       "4                10000  \n",
       "\n",
       "[5 rows x 38 columns]"
      ]
     },
     "execution_count": 2,
     "metadata": {},
     "output_type": "execute_result"
    }
   ],
   "source": [
    "raw_data1 = pd.read_csv(\"/Users/salihburakgurhan/Python/end_to_end_sales_estimator/data/Blackbox US Electronics.csv\", delimiter=\";\")\n",
    "raw_data2 = pd.read_csv(\"/Users/salihburakgurhan/Python/end_to_end_sales_estimator/data/Keepa US Electronics.csv\")\n",
    "merged_data = raw_data1.merge(raw_data2, on=\"ASIN\")\n",
    "merged_data.head()"
   ]
  },
  {
   "cell_type": "markdown",
   "metadata": {},
   "source": [
    "# Data Cleaning"
   ]
  },
  {
   "cell_type": "code",
   "execution_count": 3,
   "metadata": {},
   "outputs": [],
   "source": [
    "data = merged_data[[\"BSR\", \"Monthly Sales\"]].copy()"
   ]
  },
  {
   "cell_type": "code",
   "execution_count": 4,
   "metadata": {},
   "outputs": [
    {
     "name": "stdout",
     "output_type": "stream",
     "text": [
      "0\n",
      "0\n"
     ]
    }
   ],
   "source": [
    "print(data.isna().sum().sum())\n",
    "data.dropna(inplace=True)\n",
    "print(data.isna().sum().sum())"
   ]
  },
  {
   "cell_type": "code",
   "execution_count": 5,
   "metadata": {},
   "outputs": [
    {
     "name": "stdout",
     "output_type": "stream",
     "text": [
      "91\n",
      "0\n"
     ]
    }
   ],
   "source": [
    "print(data.duplicated().sum().sum())\n",
    "data.drop_duplicates(inplace=True)\n",
    "print(data.duplicated().sum().sum())"
   ]
  },
  {
   "cell_type": "code",
   "execution_count": 6,
   "metadata": {},
   "outputs": [
    {
     "data": {
      "text/plain": [
       "(4093, 2)"
      ]
     },
     "execution_count": 6,
     "metadata": {},
     "output_type": "execute_result"
    }
   ],
   "source": [
    "data.shape"
   ]
  },
  {
   "cell_type": "markdown",
   "metadata": {},
   "source": [
    "# Data Preprocessing"
   ]
  },
  {
   "cell_type": "code",
   "execution_count": 7,
   "metadata": {},
   "outputs": [],
   "source": [
    "X = data.drop(\"Monthly Sales\", axis=1)\n",
    "y = data[\"Monthly Sales\"]"
   ]
  },
  {
   "cell_type": "code",
   "execution_count": 8,
   "metadata": {},
   "outputs": [],
   "source": [
    "X_train, X_test, y_train, y_test = train_test_split(X,y,test_size=0.2, random_state=42)"
   ]
  },
  {
   "cell_type": "markdown",
   "metadata": {},
   "source": [
    "# Hyperparameter Selection"
   ]
  },
  {
   "cell_type": "code",
   "execution_count": 9,
   "metadata": {},
   "outputs": [
    {
     "name": "stdout",
     "output_type": "stream",
     "text": [
      "[ 10  60 110 160]\n"
     ]
    }
   ],
   "source": [
    "print(np.arange(10,210,50))"
   ]
  },
  {
   "cell_type": "code",
   "execution_count": 10,
   "metadata": {},
   "outputs": [],
   "source": [
    "best_params = {\n",
    "            \"n_estimators\" : 450,\n",
    "            \"criterion\" : 'squared_error',\n",
    "            \"max_leaf_nodes\" : 160,\n",
    "            \"random_state\" : 42,\n",
    "            \"max_depth\":5          \n",
    "        }\n",
    "\n",
    "model = RandomForestRegressor(**best_params)\n",
    "\n",
    "#grid = GridSearchCV(estimator=model, param_grid=grid_params, cv=5)\n",
    "#grid.fit(X_train, y_train)\n",
    "#print(f\"Score: {grid.best_score_}, Params: {grid.best_params_}\")"
   ]
  },
  {
   "cell_type": "code",
   "execution_count": 12,
   "metadata": {},
   "outputs": [
    {
     "name": "stdout",
     "output_type": "stream",
     "text": [
      "Model Evaluation Results\n",
      "R2 Score: 0.8771537720981933\n",
      "MAPE: 0.29594649503140186\n",
      "RMSE: 883.6232327103189\n"
     ]
    }
   ],
   "source": [
    "model.fit(X_train, y_train)\n",
    "y_pred = model.predict(X_test)\n",
    "r2 = r2_score(y_test, y_pred)\n",
    "mape = mean_absolute_percentage_error(y_test, y_pred)\n",
    "rmse = mean_squared_error(y_test, y_pred, squared=False)\n",
    "\n",
    "print(\"Model Evaluation Results\")\n",
    "print(f\"R2 Score: {r2}\")\n",
    "print(f\"MAPE: {mape}\")\n",
    "print(f\"RMSE: {rmse}\")"
   ]
  },
  {
   "cell_type": "code",
   "execution_count": 14,
   "metadata": {},
   "outputs": [],
   "source": [
    "model = RandomForestRegressor(**best_params).fit(X,y)"
   ]
  },
  {
   "cell_type": "code",
   "execution_count": 15,
   "metadata": {},
   "outputs": [
    {
     "name": "stderr",
     "output_type": "stream",
     "text": [
      "/Library/Frameworks/Python.framework/Versions/3.11/lib/python3.11/site-packages/sklearn/base.py:465: UserWarning: X does not have valid feature names, but RandomForestRegressor was fitted with feature names\n",
      "  warnings.warn(\n"
     ]
    },
    {
     "data": {
      "text/plain": [
       "array([315.73015873])"
      ]
     },
     "execution_count": 15,
     "metadata": {},
     "output_type": "execute_result"
    }
   ],
   "source": [
    "model.predict(np.array(12759).reshape(-1,1))"
   ]
  },
  {
   "cell_type": "code",
   "execution_count": 16,
   "metadata": {},
   "outputs": [
    {
     "data": {
      "text/plain": [
       "['my_model.joblib']"
      ]
     },
     "execution_count": 16,
     "metadata": {},
     "output_type": "execute_result"
    }
   ],
   "source": [
    "import joblib\n",
    "\n",
    "# Save the trained model to a file\n",
    "joblib.dump(model, 'my_model.joblib')\n"
   ]
  },
  {
   "cell_type": "code",
   "execution_count": null,
   "metadata": {},
   "outputs": [],
   "source": [
    "# Load the model from the file\n",
    "model = joblib.load('my_model.joblib')\n",
    "\n",
    "# Use the loaded model to make predictions\n",
    "predictions = model.predict(X_test)\n"
   ]
  }
 ],
 "metadata": {
  "kernelspec": {
   "display_name": "Python 3",
   "language": "python",
   "name": "python3"
  },
  "language_info": {
   "codemirror_mode": {
    "name": "ipython",
    "version": 3
   },
   "file_extension": ".py",
   "mimetype": "text/x-python",
   "name": "python",
   "nbconvert_exporter": "python",
   "pygments_lexer": "ipython3",
   "version": "3.11.1"
  }
 },
 "nbformat": 4,
 "nbformat_minor": 2
}
