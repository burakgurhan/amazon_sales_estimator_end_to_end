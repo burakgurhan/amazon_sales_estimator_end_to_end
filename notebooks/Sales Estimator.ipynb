{
 "cells": [
  {
   "cell_type": "markdown",
   "metadata": {},
   "source": [
    "# Import Libraries and Datasets"
   ]
  },
  {
   "cell_type": "code",
   "execution_count": 1,
   "metadata": {},
   "outputs": [],
   "source": [
    "!pip install xgboost --quiet"
   ]
  },
  {
   "cell_type": "code",
   "execution_count": 2,
   "metadata": {},
   "outputs": [],
   "source": [
    "from xgboost import XGBRegressor"
   ]
  },
  {
   "cell_type": "code",
   "execution_count": 3,
   "metadata": {},
   "outputs": [],
   "source": [
    "import pandas as pd\n",
    "import numpy as np\n",
    "\n",
    "from sklearn.metrics import mean_squared_error, r2_score, mean_absolute_percentage_error\n",
    "from sklearn.model_selection import train_test_split, RandomizedSearchCV, KFold\n",
    "from sklearn.ensemble import RandomForestRegressor"
   ]
  },
  {
   "cell_type": "code",
   "execution_count": 4,
   "metadata": {},
   "outputs": [
    {
     "data": {
      "text/html": [
       "<div>\n",
       "<style scoped>\n",
       "    .dataframe tbody tr th:only-of-type {\n",
       "        vertical-align: middle;\n",
       "    }\n",
       "\n",
       "    .dataframe tbody tr th {\n",
       "        vertical-align: top;\n",
       "    }\n",
       "\n",
       "    .dataframe thead th {\n",
       "        text-align: right;\n",
       "    }\n",
       "</style>\n",
       "<table border=\"1\" class=\"dataframe\">\n",
       "  <thead>\n",
       "    <tr style=\"text-align: right;\">\n",
       "      <th></th>\n",
       "      <th>Unnamed: 0</th>\n",
       "      <th>URL</th>\n",
       "      <th>ASIN</th>\n",
       "      <th>Title_x</th>\n",
       "      <th>Brand</th>\n",
       "      <th>Fulfillment</th>\n",
       "      <th>Category</th>\n",
       "      <th>BSR</th>\n",
       "      <th>Subcategory</th>\n",
       "      <th>Price</th>\n",
       "      <th>...</th>\n",
       "      <th>Number of Images</th>\n",
       "      <th>Variation Count</th>\n",
       "      <th>Sales to Reviews</th>\n",
       "      <th>Buy Box 🚚: Current</th>\n",
       "      <th>Title_y</th>\n",
       "      <th>Sales Rank: Current</th>\n",
       "      <th>Sales Rank: 90 days avg.</th>\n",
       "      <th>Sales Rank: Drops last 90 days</th>\n",
       "      <th>Sales Rank: Subcategory Sales Ranks</th>\n",
       "      <th>Bought in past month</th>\n",
       "    </tr>\n",
       "  </thead>\n",
       "  <tbody>\n",
       "    <tr>\n",
       "      <th>0</th>\n",
       "      <td>0</td>\n",
       "      <td>https://amazon.com/dp/B0933BVK6T</td>\n",
       "      <td>B0933BVK6T</td>\n",
       "      <td>Apple AirTag</td>\n",
       "      <td>Apple</td>\n",
       "      <td>Amazon</td>\n",
       "      <td>Electronics</td>\n",
       "      <td>1</td>\n",
       "      <td>Finders</td>\n",
       "      <td>27.99</td>\n",
       "      <td>...</td>\n",
       "      <td>6</td>\n",
       "      <td>0</td>\n",
       "      <td>0.23</td>\n",
       "      <td>$ 27.99</td>\n",
       "      <td>Apple AirTag</td>\n",
       "      <td>1.0</td>\n",
       "      <td>3</td>\n",
       "      <td>33</td>\n",
       "      <td># 1 | Top 1% | Item Finders</td>\n",
       "      <td>10000</td>\n",
       "    </tr>\n",
       "    <tr>\n",
       "      <th>1</th>\n",
       "      <td>1</td>\n",
       "      <td>https://amazon.com/dp/B0932QJ2JZ</td>\n",
       "      <td>B0932QJ2JZ</td>\n",
       "      <td>Apple AirTag 4 Pack</td>\n",
       "      <td>Apple</td>\n",
       "      <td>Amazon</td>\n",
       "      <td>Electronics</td>\n",
       "      <td>3</td>\n",
       "      <td>Finders</td>\n",
       "      <td>84.99</td>\n",
       "      <td>...</td>\n",
       "      <td>6</td>\n",
       "      <td>0</td>\n",
       "      <td>0.36</td>\n",
       "      <td>$ 84.99</td>\n",
       "      <td>Apple AirTag 4 Pack</td>\n",
       "      <td>3.0</td>\n",
       "      <td>3</td>\n",
       "      <td>98</td>\n",
       "      <td># 2 | Top 1% | Item Finders</td>\n",
       "      <td>10000</td>\n",
       "    </tr>\n",
       "    <tr>\n",
       "      <th>2</th>\n",
       "      <td>2</td>\n",
       "      <td>https://amazon.com/dp/B0CHWRXH8B</td>\n",
       "      <td>B0CHWRXH8B</td>\n",
       "      <td>Apple AirPods Pro (2nd Generation) Wireless Ea...</td>\n",
       "      <td>Apple</td>\n",
       "      <td>Amazon</td>\n",
       "      <td>Electronics</td>\n",
       "      <td>2</td>\n",
       "      <td>Earbud Headphones</td>\n",
       "      <td>189.00</td>\n",
       "      <td>...</td>\n",
       "      <td>6</td>\n",
       "      <td>1</td>\n",
       "      <td>4.48</td>\n",
       "      <td>$ 189.00</td>\n",
       "      <td>Apple AirPods Pro (2nd Generation) Wireless Ea...</td>\n",
       "      <td>2.0</td>\n",
       "      <td>5</td>\n",
       "      <td>100</td>\n",
       "      <td># 1 | Top 1% | Earbud &amp; In-Ear Headphones</td>\n",
       "      <td>10000</td>\n",
       "    </tr>\n",
       "    <tr>\n",
       "      <th>3</th>\n",
       "      <td>3</td>\n",
       "      <td>https://amazon.com/dp/B07PXGQC1Q</td>\n",
       "      <td>B07PXGQC1Q</td>\n",
       "      <td>Apple AirPods (2nd Generation) Wireless Ear Bu...</td>\n",
       "      <td>Apple</td>\n",
       "      <td>Amazon</td>\n",
       "      <td>Electronics</td>\n",
       "      <td>4</td>\n",
       "      <td>Earbud Headphones</td>\n",
       "      <td>99.00</td>\n",
       "      <td>...</td>\n",
       "      <td>6</td>\n",
       "      <td>0</td>\n",
       "      <td>0.06</td>\n",
       "      <td>$ 99.00</td>\n",
       "      <td>Apple AirPods (2nd Generation) Wireless Ear Bu...</td>\n",
       "      <td>4.0</td>\n",
       "      <td>5</td>\n",
       "      <td>105</td>\n",
       "      <td># 2 | Top 1% | Earbud &amp; In-Ear Headphones</td>\n",
       "      <td>10000</td>\n",
       "    </tr>\n",
       "    <tr>\n",
       "      <th>4</th>\n",
       "      <td>4</td>\n",
       "      <td>https://amazon.com/dp/B09BKHHL5H</td>\n",
       "      <td>B09BKHHL5H</td>\n",
       "      <td>Surge Protector USB Outlet Extender - 5-Outlet...</td>\n",
       "      <td>Lvetek</td>\n",
       "      <td>FBA</td>\n",
       "      <td>Electronics</td>\n",
       "      <td>11</td>\n",
       "      <td>Surge Protectors</td>\n",
       "      <td>12.98</td>\n",
       "      <td>...</td>\n",
       "      <td>8</td>\n",
       "      <td>0</td>\n",
       "      <td>1.93</td>\n",
       "      <td>$ 12.98</td>\n",
       "      <td>Surge Protector USB Outlet Extender - 5-Outlet...</td>\n",
       "      <td>13.0</td>\n",
       "      <td>41</td>\n",
       "      <td>197</td>\n",
       "      <td># 1 | Top 1% | Surge Protectors</td>\n",
       "      <td>10000</td>\n",
       "    </tr>\n",
       "  </tbody>\n",
       "</table>\n",
       "<p>5 rows × 39 columns</p>\n",
       "</div>"
      ],
      "text/plain": [
       "   Unnamed: 0                               URL        ASIN  \\\n",
       "0           0  https://amazon.com/dp/B0933BVK6T  B0933BVK6T   \n",
       "1           1  https://amazon.com/dp/B0932QJ2JZ  B0932QJ2JZ   \n",
       "2           2  https://amazon.com/dp/B0CHWRXH8B  B0CHWRXH8B   \n",
       "3           3  https://amazon.com/dp/B07PXGQC1Q  B07PXGQC1Q   \n",
       "4           4  https://amazon.com/dp/B09BKHHL5H  B09BKHHL5H   \n",
       "\n",
       "                                             Title_x   Brand Fulfillment  \\\n",
       "0                                       Apple AirTag   Apple      Amazon   \n",
       "1                                Apple AirTag 4 Pack   Apple      Amazon   \n",
       "2  Apple AirPods Pro (2nd Generation) Wireless Ea...   Apple      Amazon   \n",
       "3  Apple AirPods (2nd Generation) Wireless Ear Bu...   Apple      Amazon   \n",
       "4  Surge Protector USB Outlet Extender - 5-Outlet...  Lvetek         FBA   \n",
       "\n",
       "      Category  BSR        Subcategory   Price  ...  Number of Images  \\\n",
       "0  Electronics    1            Finders   27.99  ...                 6   \n",
       "1  Electronics    3            Finders   84.99  ...                 6   \n",
       "2  Electronics    2  Earbud Headphones  189.00  ...                 6   \n",
       "3  Electronics    4  Earbud Headphones   99.00  ...                 6   \n",
       "4  Electronics   11   Surge Protectors   12.98  ...                 8   \n",
       "\n",
       "   Variation Count  Sales to Reviews  Buy Box 🚚: Current  \\\n",
       "0                0              0.23             $ 27.99   \n",
       "1                0              0.36             $ 84.99   \n",
       "2                1              4.48            $ 189.00   \n",
       "3                0              0.06             $ 99.00   \n",
       "4                0              1.93             $ 12.98   \n",
       "\n",
       "                                             Title_y  Sales Rank: Current  \\\n",
       "0                                       Apple AirTag                  1.0   \n",
       "1                                Apple AirTag 4 Pack                  3.0   \n",
       "2  Apple AirPods Pro (2nd Generation) Wireless Ea...                  2.0   \n",
       "3  Apple AirPods (2nd Generation) Wireless Ear Bu...                  4.0   \n",
       "4  Surge Protector USB Outlet Extender - 5-Outlet...                 13.0   \n",
       "\n",
       "  Sales Rank: 90 days avg.  Sales Rank: Drops last 90 days  \\\n",
       "0                        3                              33   \n",
       "1                        3                              98   \n",
       "2                        5                             100   \n",
       "3                        5                             105   \n",
       "4                       41                             197   \n",
       "\n",
       "         Sales Rank: Subcategory Sales Ranks  Bought in past month  \n",
       "0                # 1 | Top 1% | Item Finders                 10000  \n",
       "1                # 2 | Top 1% | Item Finders                 10000  \n",
       "2  # 1 | Top 1% | Earbud & In-Ear Headphones                 10000  \n",
       "3  # 2 | Top 1% | Earbud & In-Ear Headphones                 10000  \n",
       "4            # 1 | Top 1% | Surge Protectors                 10000  \n",
       "\n",
       "[5 rows x 39 columns]"
      ]
     },
     "execution_count": 4,
     "metadata": {},
     "output_type": "execute_result"
    }
   ],
   "source": [
    "data = pd.read_csv(\"/Users/salihburakgurhan/GitHub/Hellium10 and Keepa.csv\")\n",
    "data.head()"
   ]
  },
  {
   "cell_type": "markdown",
   "metadata": {},
   "source": [
    "# Data Manipulation"
   ]
  },
  {
   "cell_type": "code",
   "execution_count": 5,
   "metadata": {},
   "outputs": [],
   "source": [
    "drop_columns = ['Buy Box 🚚: Current', 'Title_y', 'Sales Rank: Current','Sales Year Over Year (%)', 'Sales to Reviews', 'Price Trend (90 days) (%)', 'Sales Trend (90 days) (%)']\n",
    "\n",
    "df = data.drop(drop_columns, axis=1)"
   ]
  },
  {
   "cell_type": "code",
   "execution_count": 6,
   "metadata": {},
   "outputs": [
    {
     "name": "stdout",
     "output_type": "stream",
     "text": [
      "Before:  0\n",
      "After:  0\n"
     ]
    }
   ],
   "source": [
    "print(\"Before: \", df.duplicated().sum())\n",
    "df.drop_duplicates(inplace=True)\n",
    "print(\"After: \", df.duplicated().sum())"
   ]
  },
  {
   "cell_type": "code",
   "execution_count": 7,
   "metadata": {},
   "outputs": [
    {
     "data": {
      "text/plain": [
       "Index(['Unnamed: 0', 'URL', 'ASIN', 'Title_x', 'Brand', 'Fulfillment',\n",
       "       'Category', 'BSR', 'Subcategory', 'Price', 'Monthly Sales',\n",
       "       'Monthly Revenue', 'Review Count', 'Reviews Rating', 'Seller',\n",
       "       'Number of Active Sellers', 'Last Year Sales', 'Size Tier', 'Length',\n",
       "       'Width', 'Height', 'Weight', 'Storage Fee (Jan - Sep)',\n",
       "       'Storage Fee (Oct - Dec)', 'Best Sales Period', 'Age (Month)',\n",
       "       'Number of Images', 'Variation Count', 'Sales Rank: 90 days avg.',\n",
       "       'Sales Rank: Drops last 90 days', 'Sales Rank: Subcategory Sales Ranks',\n",
       "       'Bought in past month'],\n",
       "      dtype='object')"
      ]
     },
     "execution_count": 7,
     "metadata": {},
     "output_type": "execute_result"
    }
   ],
   "source": [
    "df.columns"
   ]
  },
  {
   "cell_type": "code",
   "execution_count": 8,
   "metadata": {},
   "outputs": [],
   "source": [
    "df = df[['ASIN', 'Fulfillment', 'BSR', 'Price', 'Review Count', 'Size Tier',\n",
    "       'Sales Rank: Drops last 90 days','Bought in past month', 'Monthly Sales']]"
   ]
  },
  {
   "cell_type": "code",
   "execution_count": 9,
   "metadata": {},
   "outputs": [],
   "source": [
    "df[\"Review Count\"].fillna(df[\"Review Count\"].mean(), inplace=True)\n",
    "\n",
    "df[\"Size Tier\"].fillna(\"FBM\", inplace=True)"
   ]
  },
  {
   "cell_type": "code",
   "execution_count": 10,
   "metadata": {},
   "outputs": [
    {
     "name": "stdout",
     "output_type": "stream",
     "text": [
      "<class 'pandas.core.frame.DataFrame'>\n",
      "RangeIndex: 4184 entries, 0 to 4183\n",
      "Data columns (total 9 columns):\n",
      " #   Column                          Non-Null Count  Dtype  \n",
      "---  ------                          --------------  -----  \n",
      " 0   ASIN                            4184 non-null   object \n",
      " 1   Fulfillment                     4184 non-null   object \n",
      " 2   BSR                             4184 non-null   int64  \n",
      " 3   Price                           4184 non-null   float64\n",
      " 4   Review Count                    4184 non-null   float64\n",
      " 5   Size Tier                       4184 non-null   object \n",
      " 6   Sales Rank: Drops last 90 days  4184 non-null   int64  \n",
      " 7   Bought in past month            4184 non-null   int64  \n",
      " 8   Monthly Sales                   4184 non-null   int64  \n",
      "dtypes: float64(2), int64(4), object(3)\n",
      "memory usage: 294.3+ KB\n"
     ]
    }
   ],
   "source": [
    "df.info()"
   ]
  },
  {
   "cell_type": "code",
   "execution_count": 11,
   "metadata": {},
   "outputs": [],
   "source": [
    "df_2 = pd.get_dummies(df.drop(\"ASIN\", axis=1))"
   ]
  },
  {
   "cell_type": "code",
   "execution_count": 12,
   "metadata": {},
   "outputs": [
    {
     "name": "stdout",
     "output_type": "stream",
     "text": [
      "<class 'pandas.core.frame.DataFrame'>\n",
      "RangeIndex: 4184 entries, 0 to 4183\n",
      "Data columns (total 17 columns):\n",
      " #   Column                          Non-Null Count  Dtype  \n",
      "---  ------                          --------------  -----  \n",
      " 0   BSR                             4184 non-null   int64  \n",
      " 1   Price                           4184 non-null   float64\n",
      " 2   Review Count                    4184 non-null   float64\n",
      " 3   Sales Rank: Drops last 90 days  4184 non-null   int64  \n",
      " 4   Bought in past month            4184 non-null   int64  \n",
      " 5   Monthly Sales                   4184 non-null   int64  \n",
      " 6   Fulfillment_-                   4184 non-null   bool   \n",
      " 7   Fulfillment_Amazon              4184 non-null   bool   \n",
      " 8   Fulfillment_FBA                 4184 non-null   bool   \n",
      " 9   Fulfillment_FBM                 4184 non-null   bool   \n",
      " 10  Size Tier_FBM                   4184 non-null   bool   \n",
      " 11  Size Tier_Large Oversize        4184 non-null   bool   \n",
      " 12  Size Tier_Large Standard-Size   4184 non-null   bool   \n",
      " 13  Size Tier_Medium Oversize       4184 non-null   bool   \n",
      " 14  Size Tier_Small Oversize        4184 non-null   bool   \n",
      " 15  Size Tier_Small Standard-Size   4184 non-null   bool   \n",
      " 16  Size Tier_Special Oversize      4184 non-null   bool   \n",
      "dtypes: bool(11), float64(2), int64(4)\n",
      "memory usage: 241.2 KB\n"
     ]
    }
   ],
   "source": [
    "df_2.info()"
   ]
  },
  {
   "cell_type": "markdown",
   "metadata": {},
   "source": [
    "# Train - Test Split"
   ]
  },
  {
   "cell_type": "code",
   "execution_count": 13,
   "metadata": {},
   "outputs": [],
   "source": [
    "X = df_2.drop(\"Monthly Sales\", axis=1)\n",
    "y = df_2[\"Monthly Sales\"]\n",
    "\n",
    "X_train, X_test, y_train, y_test = train_test_split(X, y, test_size=0.2, random_state=42)"
   ]
  },
  {
   "cell_type": "code",
   "execution_count": 14,
   "metadata": {},
   "outputs": [
    {
     "name": "stdout",
     "output_type": "stream",
     "text": [
      "X_train.shape (3347, 16)\n",
      "X_test.shape (837, 16)\n",
      "y_train.shape (3347,)\n",
      "y_test.shape (837,)\n"
     ]
    }
   ],
   "source": [
    "print(\"X_train.shape\", X_train.shape)\n",
    "print(\"X_test.shape\", X_test.shape)\n",
    "print(\"y_train.shape\", y_train.shape)\n",
    "print(\"y_test.shape\", y_test.shape)\n"
   ]
  },
  {
   "cell_type": "code",
   "execution_count": 15,
   "metadata": {},
   "outputs": [],
   "source": [
    "def check_metrics(pred):\n",
    "    rmse = round(mean_squared_error(y_test, pred, squared=False), 2)\n",
    "    r2 = round(r2_score(y_test, pred),2)\n",
    "    mape = round(mean_absolute_percentage_error(y_test, pred),3)\n",
    "\n",
    "    print(f\"RMSE: {rmse}\")\n",
    "    print(f\"R2_Score: {r2}\")\n",
    "    print(f\"MAPE: %{mape*100}\")"
   ]
  },
  {
   "cell_type": "markdown",
   "metadata": {},
   "source": [
    "# Model"
   ]
  },
  {
   "cell_type": "code",
   "execution_count": 16,
   "metadata": {},
   "outputs": [],
   "source": [
    "xgb = XGBRegressor()"
   ]
  },
  {
   "cell_type": "code",
   "execution_count": 17,
   "metadata": {},
   "outputs": [
    {
     "name": "stdout",
     "output_type": "stream",
     "text": [
      "Fitting 5 folds for each of 10 candidates, totalling 50 fits\n",
      "[CV] END ...learning_rate=0.1, max_depth=6, n_estimators=800; total time=   1.0s\n",
      "[CV] END .learning_rate=0.5, max_depth=20, n_estimators=2000; total time=   1.3s\n",
      "[CV] END ...learning_rate=0.1, max_depth=6, n_estimators=800; total time=   0.9s\n",
      "[CV] END ...learning_rate=0.1, max_depth=6, n_estimators=800; total time=   1.0s\n",
      "[CV] END ...learning_rate=0.1, max_depth=6, n_estimators=100; total time=   0.1s\n",
      "[CV] END ...learning_rate=0.1, max_depth=6, n_estimators=100; total time=   0.1s\n",
      "[CV] END ...learning_rate=0.1, max_depth=6, n_estimators=100; total time=   0.1s\n",
      "[CV] END ...learning_rate=0.1, max_depth=6, n_estimators=100; total time=   0.1s\n",
      "[CV] END ...learning_rate=0.1, max_depth=6, n_estimators=100; total time=   0.1s\n",
      "[CV] END .learning_rate=0.5, max_depth=20, n_estimators=2000; total time=   1.7s\n",
      "[CV] END .learning_rate=0.5, max_depth=20, n_estimators=2000; total time=   1.7s\n",
      "[CV] END .learning_rate=0.5, max_depth=20, n_estimators=2000; total time=   2.0s\n",
      "[CV] END ..learning_rate=0.01, max_depth=50, n_estimators=50; total time=   0.3s\n",
      "[CV] END .learning_rate=0.5, max_depth=20, n_estimators=2000; total time=   2.0s\n",
      "[CV] END ...learning_rate=0.1, max_depth=6, n_estimators=800; total time=   0.9s\n",
      "[CV] END ..learning_rate=0.01, max_depth=50, n_estimators=50; total time=   0.4s\n",
      "[CV] END ...learning_rate=0.1, max_depth=6, n_estimators=800; total time=   1.0s\n",
      "[CV] END ..learning_rate=0.01, max_depth=50, n_estimators=50; total time=   0.7s\n",
      "[CV] END ..learning_rate=0.01, max_depth=50, n_estimators=50; total time=   0.3s\n",
      "[CV] END ...learning_rate=0.1, max_depth=10, n_estimators=50; total time=   0.2s\n",
      "[CV] END ..learning_rate=0.01, max_depth=50, n_estimators=50; total time=   0.3s\n",
      "[CV] END ...learning_rate=0.1, max_depth=10, n_estimators=50; total time=   0.2s\n",
      "[CV] END ...learning_rate=0.1, max_depth=10, n_estimators=50; total time=   0.2s\n",
      "[CV] END ...learning_rate=0.1, max_depth=10, n_estimators=50; total time=   0.2s\n",
      "[CV] END ...learning_rate=0.1, max_depth=10, n_estimators=50; total time=   0.4s\n",
      "[CV] END ..learning_rate=0.7, max_depth=10, n_estimators=200; total time=   0.7s\n",
      "[CV] END ..learning_rate=0.7, max_depth=10, n_estimators=200; total time=   0.8s\n",
      "[CV] END ..learning_rate=0.7, max_depth=10, n_estimators=200; total time=   0.8s\n",
      "[CV] END ..learning_rate=0.7, max_depth=10, n_estimators=200; total time=   0.8s\n",
      "[CV] END ..learning_rate=0.7, max_depth=10, n_estimators=200; total time=   0.8s\n",
      "[CV] END ...learning_rate=0.2, max_depth=20, n_estimators=50; total time=   0.9s\n",
      "[CV] END ...learning_rate=0.2, max_depth=20, n_estimators=50; total time=   1.0s\n",
      "[CV] END ...learning_rate=0.2, max_depth=20, n_estimators=50; total time=   1.4s\n",
      "[CV] END ...learning_rate=0.2, max_depth=20, n_estimators=50; total time=   1.0s\n",
      "[CV] END ...learning_rate=0.2, max_depth=20, n_estimators=50; total time=   1.0s\n",
      "[CV] END ..learning_rate=0.2, max_depth=10, n_estimators=800; total time=   2.7s\n",
      "[CV] END ..learning_rate=0.2, max_depth=10, n_estimators=800; total time=   3.1s\n",
      "[CV] END ..learning_rate=0.2, max_depth=10, n_estimators=800; total time=   3.1s\n",
      "[CV] END ..learning_rate=0.2, max_depth=10, n_estimators=800; total time=   3.1s\n",
      "[CV] END ..learning_rate=0.2, max_depth=10, n_estimators=800; total time=   3.3s\n",
      "[CV] END ..learning_rate=0.01, max_depth=8, n_estimators=800; total time=   1.8s\n",
      "[CV] END .learning_rate=0.15, max_depth=50, n_estimators=800; total time=   4.7s\n",
      "[CV] END ..learning_rate=0.01, max_depth=8, n_estimators=800; total time=   1.9s\n",
      "[CV] END ..learning_rate=0.01, max_depth=8, n_estimators=800; total time=   2.6s\n",
      "[CV] END .learning_rate=0.15, max_depth=50, n_estimators=800; total time=   5.3s\n",
      "[CV] END .learning_rate=0.15, max_depth=50, n_estimators=800; total time=   5.5s\n",
      "[CV] END ..learning_rate=0.01, max_depth=8, n_estimators=800; total time=   1.4s\n",
      "[CV] END ..learning_rate=0.01, max_depth=8, n_estimators=800; total time=   1.3s\n",
      "[CV] END .learning_rate=0.15, max_depth=50, n_estimators=800; total time=   4.5s\n",
      "[CV] END .learning_rate=0.15, max_depth=50, n_estimators=800; total time=   4.9s\n",
      "Best, params:  {'n_estimators': 100, 'max_depth': 6, 'learning_rate': 0.1}\n"
     ]
    }
   ],
   "source": [
    "params = {\n",
    "    \"n_estimators\" : [50, 100, 200, 400, 800, 1000, 2000],\n",
    "    \"max_depth\" : [2, 4, 6, 8, 10, 20, 50],\n",
    "    \"learning_rate\" : [0.01, 0.05, 0.10, 0.20, 0.50, 0.7, 0.15]\n",
    "}\n",
    "\n",
    "random_search = RandomizedSearchCV(estimator=xgb, param_distributions=params, n_iter=10, cv=5, verbose=2, random_state=42, n_jobs=-1)\n",
    "\n",
    "random_search.fit(X, y)\n",
    "\n",
    "print(\"Best, params: \", random_search.best_params_)"
   ]
  },
  {
   "cell_type": "code",
   "execution_count": 18,
   "metadata": {},
   "outputs": [],
   "source": [
    "xgb = XGBRegressor(random_state=42, n_estimators=31, max_depth=4, learning_rate=0.14, n_jobs=-1, objective=\"reg:squarederror\")\n",
    "\n",
    "xgb.fit(X_train, y_train)\n",
    "\n",
    "y_preds = xgb.predict(X_test)"
   ]
  },
  {
   "cell_type": "code",
   "execution_count": 19,
   "metadata": {},
   "outputs": [
    {
     "name": "stdout",
     "output_type": "stream",
     "text": [
      "BSR:, 0.0807504951953888\n",
      "Price:, 0.011392793618142605\n",
      "Review Count:, 0.005453013814985752\n",
      "Sales Rank: Drops last 90 days:, 0.036321207880973816\n",
      "Bought in past month:, 0.8513047695159912\n",
      "Fulfillment_-:, 0.0\n",
      "Fulfillment_Amazon:, 0.01038078311830759\n",
      "Fulfillment_FBA:, 0.0\n",
      "Fulfillment_FBM:, 0.004396948032081127\n",
      "Size Tier_FBM:, 0.0\n",
      "Size Tier_Large Oversize:, 0.0\n",
      "Size Tier_Large Standard-Size:, 0.0\n",
      "Size Tier_Medium Oversize:, 0.0\n",
      "Size Tier_Small Oversize:, 0.0\n",
      "Size Tier_Small Standard-Size:, 0.0\n",
      "Size Tier_Special Oversize:, 0.0\n"
     ]
    }
   ],
   "source": [
    "importance = xgb.feature_importances_\n",
    "for i, col in enumerate(importance):\n",
    "    print(f\"{X_test.columns[i]}:, {col}\")"
   ]
  },
  {
   "cell_type": "code",
   "execution_count": 20,
   "metadata": {},
   "outputs": [
    {
     "name": "stdout",
     "output_type": "stream",
     "text": [
      "RMSE: 478.47\n",
      "R2_Score: 0.96\n",
      "MAPE: %16.6\n"
     ]
    }
   ],
   "source": [
    "check_metrics(y_preds)"
   ]
  },
  {
   "cell_type": "code",
   "execution_count": 21,
   "metadata": {},
   "outputs": [
    {
     "data": {
      "text/plain": [
       "4.50654472615414"
      ]
     },
     "execution_count": 21,
     "metadata": {},
     "output_type": "execute_result"
    }
   ],
   "source": [
    "dif = y_test - y_preds\n",
    "dif.mean()"
   ]
  }
 ],
 "metadata": {
  "kernelspec": {
   "display_name": "Python 3",
   "language": "python",
   "name": "python3"
  },
  "language_info": {
   "codemirror_mode": {
    "name": "ipython",
    "version": 3
   },
   "file_extension": ".py",
   "mimetype": "text/x-python",
   "name": "python",
   "nbconvert_exporter": "python",
   "pygments_lexer": "ipython3",
   "version": "3.11.1"
  }
 },
 "nbformat": 4,
 "nbformat_minor": 2
}
